{
  "nbformat": 4,
  "nbformat_minor": 0,
  "metadata": {
    "colab": {
      "provenance": []
    },
    "kernelspec": {
      "name": "python3",
      "display_name": "Python 3"
    },
    "language_info": {
      "name": "python"
    }
  },
  "cells": [
    {
      "cell_type": "code",
      "execution_count": 1,
      "metadata": {
        "colab": {
          "base_uri": "https://localhost:8080/"
        },
        "id": "ShZxPwcsMHum",
        "outputId": "280f820b-624a-4db3-c875-762ac2050393"
      },
      "outputs": [
        {
          "output_type": "stream",
          "name": "stdout",
          "text": [
            "  product_category vehicle_type weather  weight  fragility_score  distance  \\\n",
            "0             Food          Van   Rainy   12.67                7     82.16   \n",
            "1         Clothing         Bike   Rainy    6.54               10     19.54   \n",
            "2        Glassware          Van   Snowy    2.13                3     47.11   \n",
            "3         Clothing          Van   Sunny    5.87                4     23.41   \n",
            "4         Clothing          Van   Rainy    4.02                1     79.82   \n",
            "\n",
            "  package_material  stacking_layer  damage_probability  \n",
            "0          Plastic               2                0.68  \n",
            "1      Bubble Wrap               3                0.49  \n",
            "2             Foam               2                0.23  \n",
            "3      Bubble Wrap               1                0.14  \n",
            "4        Cardboard               5                0.33  \n",
            "<class 'pandas.core.frame.DataFrame'>\n",
            "RangeIndex: 5000 entries, 0 to 4999\n",
            "Data columns (total 9 columns):\n",
            " #   Column              Non-Null Count  Dtype  \n",
            "---  ------              --------------  -----  \n",
            " 0   product_category    5000 non-null   object \n",
            " 1   vehicle_type        5000 non-null   object \n",
            " 2   weather             5000 non-null   object \n",
            " 3   weight              5000 non-null   float64\n",
            " 4   fragility_score     5000 non-null   int64  \n",
            " 5   distance            5000 non-null   float64\n",
            " 6   package_material    5000 non-null   object \n",
            " 7   stacking_layer      5000 non-null   int64  \n",
            " 8   damage_probability  5000 non-null   float64\n",
            "dtypes: float64(3), int64(2), object(4)\n",
            "memory usage: 351.7+ KB\n",
            "None\n",
            "product_category      0\n",
            "vehicle_type          0\n",
            "weather               0\n",
            "weight                0\n",
            "fragility_score       0\n",
            "distance              0\n",
            "package_material      0\n",
            "stacking_layer        0\n",
            "damage_probability    0\n",
            "dtype: int64\n",
            "            weight  fragility_score     distance  stacking_layer  \\\n",
            "count  5000.000000      5000.000000  5000.000000     5000.000000   \n",
            "mean     10.211698         5.422600    50.334284        3.013200   \n",
            "std       5.674498         2.873963    28.691015        1.425002   \n",
            "min       0.510000         1.000000     1.000000        1.000000   \n",
            "25%       5.340000         3.000000    25.060000        2.000000   \n",
            "50%      10.235000         5.000000    50.325000        3.000000   \n",
            "75%      15.080000         8.000000    74.802500        4.000000   \n",
            "max      20.000000        10.000000   100.000000        5.000000   \n",
            "\n",
            "       damage_probability  \n",
            "count         5000.000000  \n",
            "mean             0.402320  \n",
            "std              0.176553  \n",
            "min              0.040000  \n",
            "25%              0.270000  \n",
            "50%              0.370000  \n",
            "75%              0.510000  \n",
            "max              0.980000  \n"
          ]
        }
      ],
      "source": [
        "import pandas as pd\n",
        "\n",
        "# Load dataset\n",
        "df = pd.read_csv(\"delivery_damage_data.csv\")  # Update path if needed\n",
        "\n",
        "# Preview the first few rows\n",
        "print(df.head())\n",
        "\n",
        "# Check data structure\n",
        "print(df.info())\n",
        "\n",
        "# Check for missing values\n",
        "print(df.isnull().sum())\n",
        "\n",
        "# Basic statistics\n",
        "print(df.describe())\n"
      ]
    },
    {
      "cell_type": "code",
      "source": [
        "# Create binary label: 1 = Damaged, 0 = Survived\n",
        "df[\"label\"] = df[\"damage_probability\"].apply(lambda x: 1 if x > 0.5 else 0)\n",
        "\n",
        "# Verify distribution of classes\n",
        "print(df[\"label\"].value_counts())\n"
      ],
      "metadata": {
        "colab": {
          "base_uri": "https://localhost:8080/"
        },
        "id": "PKFELi0ZMR-x",
        "outputId": "9b2158ab-a893-4077-ad7f-cabc5e4e3b97"
      },
      "execution_count": 2,
      "outputs": [
        {
          "output_type": "stream",
          "name": "stdout",
          "text": [
            "label\n",
            "0    3703\n",
            "1    1297\n",
            "Name: count, dtype: int64\n"
          ]
        }
      ]
    },
    {
      "cell_type": "code",
      "source": [
        "from sklearn.model_selection import train_test_split\n",
        "from sklearn.preprocessing import StandardScaler, OneHotEncoder\n",
        "from sklearn.compose import ColumnTransformer\n",
        "from sklearn.pipeline import Pipeline\n",
        "from sklearn.ensemble import RandomForestClassifier\n",
        "\n",
        "# 1. Define features and target\n",
        "X = df.drop(columns=[\"damage_probability\", \"label\"])\n",
        "y = df[\"label\"]\n",
        "\n",
        "# 2. Identify column types\n",
        "categorical_cols = [\"product_category\", \"vehicle_type\", \"weather\", \"package_material\"]\n",
        "numerical_cols = [\"weight\", \"fragility_score\", \"distance\", \"stacking_layer\"]\n",
        "\n",
        "# 3. Preprocessing pipeline\n",
        "preprocessor = ColumnTransformer(transformers=[\n",
        "    (\"num\", StandardScaler(), numerical_cols),\n",
        "    (\"cat\", OneHotEncoder(handle_unknown=\"ignore\"), categorical_cols)\n",
        "])\n",
        "\n",
        "# 4. Full pipeline with a sample model (Random Forest Classifier)\n",
        "model_pipeline = Pipeline(steps=[\n",
        "    (\"preprocessor\", preprocessor),\n",
        "    (\"classifier\", RandomForestClassifier(random_state=42))\n",
        "])\n",
        "\n",
        "# 5. Train-test split\n",
        "X_train, X_test, y_train, y_test = train_test_split(\n",
        "    X, y, test_size=0.2, stratify=y, random_state=42\n",
        ")\n",
        "\n",
        "# 6. Fit the pipeline\n",
        "model_pipeline.fit(X_train, y_train)\n",
        "\n",
        "# 7. Evaluate basic accuracy\n",
        "accuracy = model_pipeline.score(X_test, y_test)\n",
        "print(f\"Validation Accuracy: {accuracy:.2f}\")\n"
      ],
      "metadata": {
        "colab": {
          "base_uri": "https://localhost:8080/"
        },
        "id": "M5eXxVLgMUtX",
        "outputId": "11c070b6-3d50-457c-c7bd-dc55a03682f1"
      },
      "execution_count": 3,
      "outputs": [
        {
          "output_type": "stream",
          "name": "stdout",
          "text": [
            "Validation Accuracy: 0.97\n"
          ]
        }
      ]
    },
    {
      "cell_type": "code",
      "source": [
        "from sklearn.metrics import classification_report, confusion_matrix, ConfusionMatrixDisplay\n",
        "\n",
        "# 1. Predict on test set\n",
        "y_pred = model_pipeline.predict(X_test)\n",
        "\n",
        "# 2. Classification report\n",
        "print(classification_report(y_test, y_pred))\n",
        "\n",
        "# 3. Confusion matrix\n",
        "cm = confusion_matrix(y_test, y_pred)\n",
        "disp = ConfusionMatrixDisplay(confusion_matrix=cm)\n",
        "disp.plot()\n"
      ],
      "metadata": {
        "colab": {
          "base_uri": "https://localhost:8080/",
          "height": 628
        },
        "id": "mytZOkXfMXyx",
        "outputId": "8e9a3347-c364-4735-fcf5-3940dfa7a819"
      },
      "execution_count": 4,
      "outputs": [
        {
          "output_type": "stream",
          "name": "stdout",
          "text": [
            "              precision    recall  f1-score   support\n",
            "\n",
            "           0       0.98      0.99      0.98       741\n",
            "           1       0.96      0.93      0.95       259\n",
            "\n",
            "    accuracy                           0.97      1000\n",
            "   macro avg       0.97      0.96      0.96      1000\n",
            "weighted avg       0.97      0.97      0.97      1000\n",
            "\n"
          ]
        },
        {
          "output_type": "execute_result",
          "data": {
            "text/plain": [
              "<sklearn.metrics._plot.confusion_matrix.ConfusionMatrixDisplay at 0x7fdb42d68650>"
            ]
          },
          "metadata": {},
          "execution_count": 4
        },
        {
          "output_type": "display_data",
          "data": {
            "text/plain": [
              "<Figure size 640x480 with 2 Axes>"
            ],
            "image/png": "[encoded data removed]"
          },
          "metadata": {}
        }
      ]
    },
    {
      "cell_type": "code",
      "source": [
        "from sklearn.model_selection import GridSearchCV\n",
        "\n",
        "# Define parameters to search\n",
        "param_grid = {\n",
        "    \"classifier__n_estimators\": [100, 200, 300],\n",
        "    \"classifier__max_depth\": [None, 10, 20, 30],\n",
        "    \"classifier__min_samples_split\": [2, 5, 10]\n",
        "}\n",
        "\n",
        "# Create GridSearchCV with pipeline\n",
        "grid_search = GridSearchCV(\n",
        "    model_pipeline,\n",
        "    param_grid,\n",
        "    cv=5,\n",
        "    scoring=\"f1\",  # Optimizing for F1-score\n",
        "    n_jobs=-1,\n",
        "    verbose=1\n",
        ")\n",
        "\n",
        "# Run grid search\n",
        "grid_search.fit(X_train, y_train)\n",
        "\n",
        "# Best params\n",
        "print(\"Best Parameters:\", grid_search.best_params_)\n",
        "\n",
        "# Best model\n",
        "best_model = grid_search.best_estimator_\n",
        "\n",
        "# Re-evaluate\n",
        "from sklearn.metrics import classification_report\n",
        "y_pred_tuned = best_model.predict(X_test)\n",
        "print(classification_report(y_test, y_pred_tuned))\n"
      ],
      "metadata": {
        "colab": {
          "base_uri": "https://localhost:8080/"
        },
        "id": "BBgsgpXTMZwq",
        "outputId": "78d855a5-3872-4802-9bfa-f3106aded3e5"
      },
      "execution_count": 5,
      "outputs": [
        {
          "output_type": "stream",
          "name": "stdout",
          "text": [
            "Fitting 5 folds for each of 36 candidates, totalling 180 fits\n",
            "Best Parameters: {'classifier__max_depth': None, 'classifier__min_samples_split': 2, 'classifier__n_estimators': 200}\n",
            "              precision    recall  f1-score   support\n",
            "\n",
            "           0       0.97      0.99      0.98       741\n",
            "           1       0.96      0.93      0.94       259\n",
            "\n",
            "    accuracy                           0.97      1000\n",
            "   macro avg       0.97      0.96      0.96      1000\n",
            "weighted avg       0.97      0.97      0.97      1000\n",
            "\n"
          ]
        }
      ]
    },
    {
      "cell_type": "code",
      "source": [
        "import joblib\n",
        "\n",
        "# Save your trained or best model\n",
        "joblib.dump(best_model, \"delivery_damage_model.pkl\")  # Make sure best_model is defined\n"
      ],
      "metadata": {
        "colab": {
          "base_uri": "https://localhost:8080/"
        },
        "id": "ftizoneQNJH0",
        "outputId": "001c2051-7ded-4d1f-df43-0b7bd509687e"
      },
      "execution_count": 6,
      "outputs": [
        {
          "output_type": "execute_result",
          "data": {
            "text/plain": [
              "['delivery_damage_model.pkl']"
            ]
          },
          "metadata": {},
          "execution_count": 6
        }
      ]
    },
    {
      "cell_type": "code",
      "source": [
        "import joblib\n",
        "import pandas as pd\n",
        "\n",
        "# Load model from disk (ensure file exists)\n",
        "model = joblib.load(\"delivery_damage_model.pkl\")\n",
        "\n",
        "# Test with an example input\n",
        "input_data = pd.DataFrame([{\n",
        "    \"product_category\": \"Glassware\",\n",
        "    \"vehicle_type\": \"Van\",\n",
        "    \"weather\": \"Rainy\",\n",
        "    \"weight\": 4.5,\n",
        "    \"fragility_score\": 8,\n",
        "    \"distance\": 50,\n",
        "    \"package_material\": \"Foam\",\n",
        "    \"stacking_layer\": 2\n",
        "}])\n",
        "\n",
        "prediction = model.predict(input_data)\n",
        "probability = model.predict_proba(input_data)\n",
        "\n",
        "print(\"Predicted Label:\", prediction[0])\n",
        "print(\"Probability (Damaged):\", probability[0][1])\n"
      ],
      "metadata": {
        "colab": {
          "base_uri": "https://localhost:8080/"
        },
        "id": "vf_q9JleNKxR",
        "outputId": "0a563723-9ed3-428e-fdd0-5f3a4c9e64ec"
      },
      "execution_count": 7,
      "outputs": [
        {
          "output_type": "stream",
          "name": "stdout",
          "text": [
            "Predicted Label: 0\n",
            "Probability (Damaged): 0.015\n"
          ]
        }
      ]
    },
    {
      "cell_type": "code",
      "source": [
        "!pip install fastapi uvicorn nest-asyncio pyngrok joblib pandas\n"
      ],
      "metadata": {
        "colab": {
          "base_uri": "https://localhost:8080/"
        },
        "id": "NFTxO1VqNMtC",
        "outputId": "2b2f4697-4a58-4865-b1e3-758afb84d03b"
      },
      "execution_count": 8,
      "outputs": [
        {
          "output_type": "stream",
          "name": "stdout",
          "text": [
            "Requirement already satisfied: fastapi in /usr/local/lib/python3.11/dist-packages (0.115.12)\n",
            "Requirement already satisfied: uvicorn in /usr/local/lib/python3.11/dist-packages (0.34.3)\n",
            "Requirement already satisfied: nest-asyncio in /usr/local/lib/python3.11/dist-packages (1.6.0)\n",
            "Collecting pyngrok\n",
            "  Downloading pyngrok-7.2.11-py3-none-any.whl.metadata (9.4 kB)\n",
            "Requirement already satisfied: joblib in /usr/local/lib/python3.11/dist-packages (1.5.1)\n",
            "Requirement already satisfied: pandas in /usr/local/lib/python3.11/dist-packages (2.2.2)\n",
            "Requirement already satisfied: starlette<0.47.0,>=0.40.0 in /usr/local/lib/python3.11/dist-packages (from fastapi) (0.46.2)\n",
            "Requirement already satisfied: pydantic!=1.8,!=1.8.1,!=2.0.0,!=2.0.1,!=2.1.0,<3.0.0,>=1.7.4 in /usr/local/lib/python3.11/dist-packages (from fastapi) (2.11.5)\n",
            "Requirement already satisfied: typing-extensions>=4.8.0 in /usr/local/lib/python3.11/dist-packages (from fastapi) (4.14.0)\n",
            "Requirement already satisfied: click>=7.0 in /usr/local/lib/python3.11/dist-packages (from uvicorn) (8.2.1)\n",
            "Requirement already satisfied: h11>=0.8 in /usr/local/lib/python3.11/dist-packages (from uvicorn) (0.16.0)\n",
            "Requirement already satisfied: PyYAML>=5.1 in /usr/local/lib/python3.11/dist-packages (from pyngrok) (6.0.2)\n",
            "Requirement already satisfied: numpy>=1.23.2 in /usr/local/lib/python3.11/dist-packages (from pandas) (2.0.2)\n",
            "Requirement already satisfied: python-dateutil>=2.8.2 in /usr/local/lib/python3.11/dist-packages (from pandas) (2.9.0.post0)\n",
            "Requirement already satisfied: pytz>=2020.1 in /usr/local/lib/python3.11/dist-packages (from pandas) (2025.2)\n",
            "Requirement already satisfied: tzdata>=2022.7 in /usr/local/lib/python3.11/dist-packages (from pandas) (2025.2)\n",
            "Requirement already satisfied: annotated-types>=0.6.0 in /usr/local/lib/python3.11/dist-packages (from pydantic!=1.8,!=1.8.1,!=2.0.0,!=2.0.1,!=2.1.0,<3.0.0,>=1.7.4->fastapi) (0.7.0)\n",
            "Requirement already satisfied: pydantic-core==2.33.2 in /usr/local/lib/python3.11/dist-packages (from pydantic!=1.8,!=1.8.1,!=2.0.0,!=2.0.1,!=2.1.0,<3.0.0,>=1.7.4->fastapi) (2.33.2)\n",
            "Requirement already satisfied: typing-inspection>=0.4.0 in /usr/local/lib/python3.11/dist-packages (from pydantic!=1.8,!=1.8.1,!=2.0.0,!=2.0.1,!=2.1.0,<3.0.0,>=1.7.4->fastapi) (0.4.1)\n",
            "Requirement already satisfied: six>=1.5 in /usr/local/lib/python3.11/dist-packages (from python-dateutil>=2.8.2->pandas) (1.17.0)\n",
            "Requirement already satisfied: anyio<5,>=3.6.2 in /usr/local/lib/python3.11/dist-packages (from starlette<0.47.0,>=0.40.0->fastapi) (4.9.0)\n",
            "Requirement already satisfied: idna>=2.8 in /usr/local/lib/python3.11/dist-packages (from anyio<5,>=3.6.2->starlette<0.47.0,>=0.40.0->fastapi) (3.10)\n",
            "Requirement already satisfied: sniffio>=1.1 in /usr/local/lib/python3.11/dist-packages (from anyio<5,>=3.6.2->starlette<0.47.0,>=0.40.0->fastapi) (1.3.1)\n",
            "Downloading pyngrok-7.2.11-py3-none-any.whl (25 kB)\n",
            "Installing collected packages: pyngrok\n",
            "Successfully installed pyngrok-7.2.11\n"
          ]
        }
      ]
    },
    {
      "cell_type": "code",
      "source": [
        "import nest_asyncio\n",
        "import uvicorn\n",
        "from fastapi import FastAPI\n",
        "from pydantic import BaseModel\n",
        "import joblib\n",
        "import pandas as pd\n",
        "from pyngrok import ngrok\n",
        "\n",
        "# Allow nested event loops (needed in environments like Google Colab)\n",
        "nest_asyncio.apply()\n",
        "\n",
        "# ✅ Set your ngrok auth token (REQUIRED to avoid ERR_NGROK_4018)\n",
        "ngrok.set_auth_token(\"2yK7X4EcHS8TzDr5uEbP36Cy57k_7AcEncUXZe745yEb69dwc\")  # <- Replace with your token\n",
        "\n",
        "# Load your trained model\n",
        "model = joblib.load(\"delivery_damage_model.pkl\")\n",
        "\n",
        "# Create FastAPI app\n",
        "app = FastAPI(title=\"Delivery Damage Predictor\")\n",
        "\n",
        "from fastapi.middleware.cors import CORSMiddleware\n",
        "\n",
        "app.add_middleware(\n",
        "    CORSMiddleware,\n",
        "    allow_origins=[\"*\"],  # Change this in production!\n",
        "    allow_credentials=True,\n",
        "    allow_methods=[\"*\"],\n",
        "    allow_headers=[\"*\"],\n",
        ")\n",
        "\n",
        "# Define input schema\n",
        "class DeliveryItem(BaseModel):\n",
        "    product_category: str\n",
        "    vehicle_type: str\n",
        "    weather: str\n",
        "    weight: float\n",
        "    fragility_score: int\n",
        "    distance: float\n",
        "    package_material: str\n",
        "    stacking_layer: int\n",
        "\n",
        "# Prediction route\n",
        "@app.post(\"/predict\")\n",
        "def predict(data: DeliveryItem):\n",
        "    input_df = pd.DataFrame([data.dict()])\n",
        "    prediction = model.predict(input_df)[0]\n",
        "    probability = model.predict_proba(input_df)[0][1]\n",
        "\n",
        "    advice = (\n",
        "        \"High damage risk — improve packaging or choose safer transport\"\n",
        "        if probability > 0.5 else \"Safe to ship\"\n",
        "    )\n",
        "\n",
        "    return {\n",
        "        \"predicted_label\": int(prediction),\n",
        "        \"damage_probability\": round(probability, 3),\n",
        "        \"advice\": advice\n",
        "    }\n",
        "\n",
        "# Start ngrok tunnel\n",
        "public_url = ngrok.connect(8000)\n",
        "print(\"🔗 Public URL:\", public_url)\n",
        "\n",
        "# Run FastAPI app\n",
        "uvicorn.run(app, host=\"0.0.0.0\", port=8000)\n"
      ],
      "metadata": {
        "colab": {
          "base_uri": "https://localhost:8080/"
        },
        "id": "ZwP60105NR8a",
        "outputId": "e5c33555-d848-450a-bf1e-1e53559fef26"
      },
      "execution_count": null,
      "outputs": [
        {
          "output_type": "stream",
          "name": "stderr",
          "text": [
            "INFO:     Started server process [320]\n",
            "INFO:     Waiting for application startup.\n",
            "INFO:     Application startup complete.\n",
            "INFO:     Uvicorn running on http://0.0.0.0:8000 (Press CTRL+C to quit)\n"
          ]
        },
        {
          "output_type": "stream",
          "name": "stdout",
          "text": [
            "🔗 Public URL: NgrokTunnel: \"https://3bc5-35-243-248-151.ngrok-free.app\" -> \"http://localhost:8000\"\n",
            "INFO:     2401:4900:88eb:69ac:61a2:9683:9250:27b6:0 - \"GET / HTTP/1.1\" 404 Not Found\n",
            "INFO:     2401:4900:88eb:69ac:61a2:9683:9250:27b6:0 - \"GET /favicon.ico HTTP/1.1\" 404 Not Found\n",
            "INFO:     2401:4900:88eb:69ac:61a2:9683:9250:27b6:0 - \"GET / HTTP/1.1\" 404 Not Found\n",
            "INFO:     106.219.122.165:0 - \"POST /predict HTTP/1.1\" 200 OK\n"
          ]
        },
        {
          "output_type": "stream",
          "name": "stderr",
          "text": [
            "<ipython-input-10-38762499>:45: PydanticDeprecatedSince20: The `dict` method is deprecated; use `model_dump` instead. Deprecated in Pydantic V2.0 to be removed in V3.0. See Pydantic V2 Migration Guide at https://errors.pydantic.dev/2.11/migration/\n",
            "  input_df = pd.DataFrame([data.dict()])\n"
          ]
        },
        {
          "output_type": "stream",
          "name": "stdout",
          "text": [
            "INFO:     106.219.122.165:0 - \"POST /predict HTTP/1.1\" 200 OK\n"
          ]
        },
        {
          "output_type": "stream",
          "name": "stderr",
          "text": [
            "<ipython-input-10-38762499>:45: PydanticDeprecatedSince20: The `dict` method is deprecated; use `model_dump` instead. Deprecated in Pydantic V2.0 to be removed in V3.0. See Pydantic V2 Migration Guide at https://errors.pydantic.dev/2.11/migration/\n",
            "  input_df = pd.DataFrame([data.dict()])\n"
          ]
        }
      ]
    }
  ]
}